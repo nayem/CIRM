{
 "cells": [
  {
   "cell_type": "markdown",
   "metadata": {},
   "source": [
    "## Intra-Spectra\n",
    "\n",
    "Make data (mag+GD) cleansing for model."
   ]
  },
  {
   "cell_type": "code",
   "execution_count": 1,
   "metadata": {},
   "outputs": [
    {
     "name": "stdout",
     "output_type": "stream",
     "text": [
      "/home/knayem/anaconda3/bin/python\n"
     ]
    }
   ],
   "source": [
    "from __future__ import absolute_import\n",
    "from __future__ import division\n",
    "from __future__ import print_function\n",
    "\n",
    "import argparse\n",
    "import sys\n",
    "import math\n",
    "import array\n",
    "\n",
    "import scipy.io as sio\n",
    "import numpy as np\n",
    "import sys\n",
    "\n",
    "import time\n",
    "\n",
    "import os\n",
    "os.environ[\"CUDA_DEVICE_ORDER\"]=\"PCI_BUS_ID\"\n",
    "os.environ[\"CUDA_VISIBLE_DEVICES\"]=\"0\"\n",
    "\n",
    "import matplotlib.pyplot as plt\n",
    "\n",
    "print(sys.executable)\n",
    "import librosa\n",
    "import soundfile as sf\n",
    "import librosa.display\n",
    "import seaborn as sns\n",
    "\n",
    "from skimage.restoration import unwrap_phase"
   ]
  },
  {
   "cell_type": "markdown",
   "metadata": {},
   "source": [
    "## 2. File paths "
   ]
  },
  {
   "cell_type": "markdown",
   "metadata": {},
   "source": [
    "### IEEE Dataset"
   ]
  },
  {
   "cell_type": "markdown",
   "metadata": {},
   "source": [
    "#### 2.a Mixture (Noisy)"
   ]
  },
  {
   "cell_type": "code",
   "execution_count": null,
   "metadata": {},
   "outputs": [],
   "source": [
    "# .NPY FILE PATH\n",
    "FILE_SAVE_PATH = '/data/knayem/IEEE_DataFiles' # store .npy data file path for quick access"
   ]
  },
  {
   "cell_type": "markdown",
   "metadata": {},
   "source": [
    "#### 2.b Clean"
   ]
  },
  {
   "cell_type": "code",
   "execution_count": 31,
   "metadata": {},
   "outputs": [],
   "source": [
    "# CLEAN PATH\n",
    "CLEAN_PATH_MALE_28 = '/data/knayem/IEEE_male_28'\n",
    "CLEAN_PATH_FEMALE_28 = '/data/knayem/IEEE_female_28'\n",
    "\n",
    "CLEAN_PATH_MALE_28_16kz = '/data/knayem/IEEE_male_28_16kz'\n",
    "CLEAN_PATH_FEMALE_28_16kz = '/data/knayem/IEEE_female_28_16kz'"
   ]
  },
  {
   "cell_type": "markdown",
   "metadata": {},
   "source": [
    "### 2.c STFT parameters"
   ]
  },
  {
   "cell_type": "markdown",
   "metadata": {},
   "source": [
    "Followings are the basic parameter for calculating STFT."
   ]
  },
  {
   "cell_type": "code",
   "execution_count": 32,
   "metadata": {},
   "outputs": [
    {
     "name": "stdout",
     "output_type": "stream",
     "text": [
      "window: 640, noverlap: 320, nfft: 640, fs: 16000, hop_length: 320\n"
     ]
    }
   ],
   "source": [
    "fs = int(16e3)\n",
    "\n",
    "n_fft = 640\n",
    "win_length = int(40e-3*fs) # librosa needs scalar value\n",
    "overlap = int(20e-3*fs)\n",
    "hop_length = win_length - overlap # librosa needs scalar value\n",
    "\n",
    "NUMS_PRINTS = 10\n",
    "\n",
    "print('window: {0}, noverlap: {1}, nfft: {2}, fs: {3}, hop_length: {4}'.format(win_length,overlap,n_fft,fs,hop_length))\n"
   ]
  },
  {
   "cell_type": "markdown",
   "metadata": {},
   "source": [
    "Calculate Magnitude and Group Delay of the PATH (train, dev, test of IEEE/TIMIT) to get an overview of the data."
   ]
  },
  {
   "cell_type": "code",
   "execution_count": 7,
   "metadata": {},
   "outputs": [
    {
     "name": "stdout",
     "output_type": "stream",
     "text": [
      "ROOT: /data/knayem/IEEE_female_28 , len(DIR): 0 , len(FILES): 28\n",
      "[0]...[10]...[20]...[30]...[40]...[50]...[60]...[70]...[80]...[90]...\n",
      "Max Spec len: 139 , Max Spec val: 21.368652 , Min Spec val: 0.0\n",
      "Max GD len: 139 , Max GD val: 3.141592613787505 , Min GD val: -3.1415926456925596\n"
     ]
    }
   ],
   "source": [
    "# initialization\n",
    "mag_len = []\n",
    "mag_max = []\n",
    "mag_min = []\n",
    "\n",
    "gd_len = []\n",
    "gd_max = []\n",
    "gd_min = []\n",
    "\n",
    "\n",
    "for root, dirs, files in os.walk(PATH):\n",
    "    print(\"ROOT:\",root, \", len(DIR):\", len(dirs), \", len(FILES):\",len(files))\n",
    "    \n",
    "    selected_print = np.floor(np.linspace(0, len(files), NUMS_PRINTS, False))\n",
    "    \n",
    "    for enum, filename in enumerate(files):\n",
    "\n",
    "        FILE_NAME = os.path.join(root,filename)\n",
    "        \n",
    "        y, sr = librosa.load(FILE_NAME, fs)\n",
    "        s_stft = librosa.stft(y,n_fft,hop_length,win_length)\n",
    "        mag, phase = librosa.magphase(s_stft)\n",
    "        angle = np.angle(phase)\n",
    "        \n",
    "        unwrap_angle = np.unwrap(angle, axis=0) # freq, MATLAB implementation\n",
    "        unwrap_angle_s = np.roll(unwrap_angle, 1, axis=0) # roll across freq\n",
    "        unwrap_GD = np.angle(np.exp(1j*(unwrap_angle - unwrap_angle_s))) # paper implementation\n",
    "        \n",
    "        mag_len.append(mag.shape[1])\n",
    "        mag_max.append(max(mag.flatten()))\n",
    "        mag_min.append(min(mag.flatten()))\n",
    "        \n",
    "        gd_len.append(unwrap_GD.shape[1])\n",
    "        gd_max.append(max(unwrap_GD.flatten()))\n",
    "        gd_min.append(min(unwrap_GD.flatten()))\n",
    "        \n",
    "        if enum in selected_print:\n",
    "            print(np.where(selected_print==enum)[0]*10, end='...')\n",
    "            \n",
    "\n",
    "print( '\\nMax Spec len:', max(mag_len),', Max Spec val:', max(mag_max), ', Min Spec val:',min(mag_min))\n",
    "print( 'Max GD len:', max(gd_len),', Max GD val:', max(gd_max), ', Min GD val:',min(gd_min))"
   ]
  },
  {
   "cell_type": "markdown",
   "metadata": {},
   "source": [
    "**For IEEE clean MALE 28 training,** (Mar 7, 2020)\n",
    "\n",
    "ROOT: /data/knayem/IEEE_male_28 , len(DIR): 0 , len(FILES): 28\n",
    "\n",
    "Max Spec len: 176 , Max Spec val: 33.47566 , Min Spec val: 0.0\n",
    "\n",
    "Max GD len: 176 , Max GD val: 3.1415926297400323 , Min GD val: -3.1415926297400323\n",
    "\n",
    "---------------------------------------------------------------------------------------------------------\n",
    "\n",
    "**For IEEE clean FEMALE 28 training,**(Mar 7, 2020)\n",
    "\n",
    "ROOT: /data/knayem/IEEE_female_28 , len(DIR): 0 , len(FILES): 28\n",
    "\n",
    "Max Spec len: 139 , Max Spec val: 21.368652 , Min Spec val: 0.0\n",
    "\n",
    "Max GD len: 139 , Max GD val: 3.141592613787505 , Min GD val: -3.1415926456925596\n",
    "\n",
    "---------------------------------------------------------------------------------------------------------\n",
    "**For IEEE clean training,**\n",
    "\n",
    "ROOT: /data/knayem/denoising_clean_wavs_SSN_10noisespercs/training_16k , len(DIR): 0 , len(FILES): 500\n",
    "\n",
    "Max Spec len: 186 , Max Spec val: 50.611187 , Min Spec val: 0.0\n",
    "\n",
    "Max GD len: 186 , Max GD val: 3.1415926297400323 , Min GD val: -3.1415926297400323\n",
    "\n",
    "---------------------------------------------------------------------------------------------------------\n",
    "\n",
    "**For IEEE clean dev,**\n",
    "\n",
    "ROOT: /data/knayem/denoising_clean_wavs_SSN_10noisespercs/development_16k , len(DIR): 0 , len(FILES): 110\n",
    "\n",
    "Max Spec len: 178 , Max Spec val: 42.42621 , Min Spec val: 0.0\n",
    "\n",
    "Max GD len: 178 , Max GD val: 3.1415926297400323 , Min GD val: -3.1415926297400323\n",
    "\n",
    "---------------------------------------------------------------------------------------------------------\n",
    "\n",
    "**For IEEE clean testing,**\n",
    "\n",
    "ROOT: /data/knayem/denoising_clean_wavs_SSN_10noisespercs/testing_16k , len(DIR): 0 , len(FILES): 109\n",
    "\n",
    "Max Spec len: 183 , Max Spec val: 42.816093 , Min Spec val: 0.0\n",
    "\n",
    "Max GD len: 183 , Max GD val: 3.1415926297400323 , Min GD val: -3.1415926297400323"
   ]
  },
  {
   "cell_type": "markdown",
   "metadata": {},
   "source": [
    "**For TIMIT clean training,**\n",
    "\n",
    "ROOT: /data/knayem/TIMIT_clean_16k/train_16k , len(DIR): 0 , len(FILES): 4620\n",
    "\n",
    "Max Spec len: 390 , Max Spec val: 35.032005 , Min Spec val: 3.7300213e-10\n",
    "\n",
    "Max GD len: 390 , Max GD val: 3.1415926297400323 , Min GD val: -3.1415926456925596\n",
    "\n",
    "---------------------------------------------------------------------------------------------------------\n",
    "\n",
    "**For TIMIT clean dev,**\n",
    "\n",
    "ROOT: /data/knayem/TIMIT_clean_16k/dev_16k , len(DIR): 0 , len(FILES): 320\n",
    "\n",
    "Max Spec len: 379 , Max Spec val: 25.104317 , Min Spec val: 7.5970613e-10\n",
    "\n",
    "Max GD len: 379 , Max GD val: 3.1415926297400323 , Min GD val: -3.1415926456925596\n",
    "\n",
    "---------------------------------------------------------------------------------------------------------\n",
    "\n",
    "**For TIMIT clean testing,** \n",
    "\n",
    "ROOT: /data/knayem/TIMIT_clean_16k/test_16k , len(DIR): 0 , len(FILES): 1360\n",
    "\n",
    "Max Spec len: 345 , Max Spec val: 29.712965 , Min Spec val: 2.9391e-09\n",
    "\n",
    "Max GD len: 345 , Max GD val: 3.1415926297400323 , Min GD val: -3.1415926456925596"
   ]
  },
  {
   "cell_type": "markdown",
   "metadata": {},
   "source": [
    "### 2.d (Target_path_name) genetrator"
   ]
  },
  {
   "cell_type": "markdown",
   "metadata": {},
   "source": [
    "Store **(clean_fileName)** in a .npy file for quick file retrival when needed. "
   ]
  },
  {
   "cell_type": "code",
   "execution_count": 33,
   "metadata": {},
   "outputs": [],
   "source": [
    "def mag_gd_phase(filename, fs, n_fft, hop_length, win_length, MAX_TIME_FRAME=None):\n",
    "    \n",
    "    y, sr = librosa.load(filename, sr=fs)\n",
    "    s_stft = librosa.stft(y,n_fft,hop_length,win_length)\n",
    "    mag, phase = librosa.magphase(s_stft)\n",
    "    angle = np.angle(phase)\n",
    "\n",
    "    unwrap_angle = np.unwrap(angle, axis=0) # freq, MATLAB implementation\n",
    "    unwrap_angle_s = np.roll(unwrap_angle, 1, axis=0) # roll across freq\n",
    "    unwrap_GD = np.angle(np.exp(1j*(unwrap_angle - unwrap_angle_s))) # paper implementation\n",
    "\n",
    "    return mag, unwrap_GD, phase, angle"
   ]
  },
  {
   "cell_type": "code",
   "execution_count": 50,
   "metadata": {},
   "outputs": [],
   "source": [
    "def save_enhanced(y, fs, new_directory, filename, tags=None):\n",
    "    \n",
    "    name, ext = filename.split('.')\n",
    "    \n",
    "    if tags is not None:\n",
    "        if 'fs' in tags:\n",
    "            name = \"_\".join([name, tags[\"fs\"]])\n",
    "\n",
    "    name = \".\".join([name,ext])\n",
    "\n",
    "    \n",
    "    # directory creation               \n",
    "    if not os.path.exists(new_directory):\n",
    "        #print(True,save_directory, path)\n",
    "        os.mkdir(new_directory)\n",
    "    else:\n",
    "        #print(False,save_directory, path)\n",
    "        pass\n",
    "    \n",
    "    wav_filepath = os.path.join(new_directory,name)\n",
    "                                       \n",
    "    # save file\n",
    "    #sf.write(wav_filepath, y, int(fs))\n",
    "    print(wav_filepath)\n",
    "    \n",
    "    return wav_filepath"
   ]
  },
  {
   "cell_type": "code",
   "execution_count": 63,
   "metadata": {},
   "outputs": [
    {
     "name": "stdout",
     "output_type": "stream",
     "text": [
      "ROOT: /data/knayem/IEEE_male_28/ , len(DIR): 0 , len(C_FILES): 28\n",
      "/data/knayem/IEEE_male_28_16kz/S_01_01_16kz.wav\n",
      "/data/knayem/IEEE_male_28_16kz/S_01_02_16kz.wav\n",
      "/data/knayem/IEEE_male_28_16kz/S_01_03_16kz.wav\n",
      "/data/knayem/IEEE_male_28_16kz/S_01_04_16kz.wav\n",
      "/data/knayem/IEEE_male_28_16kz/S_01_05_16kz.wav\n",
      "/data/knayem/IEEE_male_28_16kz/S_01_06_16kz.wav\n",
      "/data/knayem/IEEE_male_28_16kz/S_01_07_16kz.wav\n",
      "/data/knayem/IEEE_male_28_16kz/S_01_08_16kz.wav\n",
      "/data/knayem/IEEE_male_28_16kz/S_01_09_16kz.wav\n",
      "/data/knayem/IEEE_male_28_16kz/S_01_10_16kz.wav\n",
      "/data/knayem/IEEE_male_28_16kz/S_02_01_16kz.wav\n",
      "/data/knayem/IEEE_male_28_16kz/S_02_02_16kz.wav\n",
      "/data/knayem/IEEE_male_28_16kz/S_02_03_16kz.wav\n",
      "/data/knayem/IEEE_male_28_16kz/S_02_04_16kz.wav\n",
      "/data/knayem/IEEE_male_28_16kz/S_02_05_16kz.wav\n",
      "/data/knayem/IEEE_male_28_16kz/S_02_06_16kz.wav\n",
      "/data/knayem/IEEE_male_28_16kz/S_02_07_16kz.wav\n",
      "/data/knayem/IEEE_male_28_16kz/S_02_08_16kz.wav\n",
      "/data/knayem/IEEE_male_28_16kz/S_02_09_16kz.wav\n",
      "/data/knayem/IEEE_male_28_16kz/S_02_10_16kz.wav\n",
      "/data/knayem/IEEE_male_28_16kz/S_03_01_16kz.wav\n",
      "/data/knayem/IEEE_male_28_16kz/S_03_02_16kz.wav\n",
      "/data/knayem/IEEE_male_28_16kz/S_03_03_16kz.wav\n",
      "/data/knayem/IEEE_male_28_16kz/S_03_04_16kz.wav\n",
      "/data/knayem/IEEE_male_28_16kz/S_03_05_16kz.wav\n",
      "/data/knayem/IEEE_male_28_16kz/S_03_06_16kz.wav\n",
      "/data/knayem/IEEE_male_28_16kz/S_03_07_16kz.wav\n",
      "/data/knayem/IEEE_male_28_16kz/S_03_08_16kz.wav\n",
      "ROOT: /data/knayem/IEEE_female_28 , len(DIR): 0 , len(C_FILES): 28\n",
      "/data/knayem/IEEE_female_28_16kz/l03s09_16kz.wav\n",
      "/data/knayem/IEEE_female_28_16kz/l03s10_16kz.wav\n",
      "/data/knayem/IEEE_female_28_16kz/l04s01_16kz.wav\n",
      "/data/knayem/IEEE_female_28_16kz/l04s02_16kz.wav\n",
      "/data/knayem/IEEE_female_28_16kz/l04s03_16kz.wav\n",
      "/data/knayem/IEEE_female_28_16kz/l04s04_16kz.wav\n",
      "/data/knayem/IEEE_female_28_16kz/l04s05_16kz.wav\n",
      "/data/knayem/IEEE_female_28_16kz/l04s06_16kz.wav\n",
      "/data/knayem/IEEE_female_28_16kz/l04s07_16kz.wav\n",
      "/data/knayem/IEEE_female_28_16kz/l04s08_16kz.wav\n",
      "/data/knayem/IEEE_female_28_16kz/l04s09_16kz.wav\n",
      "/data/knayem/IEEE_female_28_16kz/l04s10_16kz.wav\n",
      "/data/knayem/IEEE_female_28_16kz/l05s01_16kz.wav\n",
      "/data/knayem/IEEE_female_28_16kz/l05s02_16kz.wav\n",
      "/data/knayem/IEEE_female_28_16kz/l05s03_16kz.wav\n",
      "/data/knayem/IEEE_female_28_16kz/l05s04_16kz.wav\n",
      "/data/knayem/IEEE_female_28_16kz/l05s05_16kz.wav\n",
      "/data/knayem/IEEE_female_28_16kz/l05s06_16kz.wav\n",
      "/data/knayem/IEEE_female_28_16kz/l05s07_16kz.wav\n",
      "/data/knayem/IEEE_female_28_16kz/l05s08_16kz.wav\n",
      "/data/knayem/IEEE_female_28_16kz/l05s09_16kz.wav\n",
      "/data/knayem/IEEE_female_28_16kz/l05s10_16kz.wav\n",
      "/data/knayem/IEEE_female_28_16kz/l06s01_16kz.wav\n",
      "/data/knayem/IEEE_female_28_16kz/l06s02_16kz.wav\n",
      "/data/knayem/IEEE_female_28_16kz/l06s03_16kz.wav\n",
      "/data/knayem/IEEE_female_28_16kz/l06s04_16kz.wav\n",
      "/data/knayem/IEEE_female_28_16kz/l06s05_16kz.wav\n",
      "/data/knayem/IEEE_female_28_16kz/l06s06_16kz.wav\n",
      "56\n"
     ]
    }
   ],
   "source": [
    "# initialization\n",
    "\n",
    "\n",
    "FILE_LIMIT = 28\n",
    "\n",
    "CLEAN_FILE_NAMES = []\n",
    "\n",
    "MAX_TIME_FRAME = 390 # TIMIT = 390, IEEE = 186\n",
    "\n",
    "CLEAN_MAG_FRAMES = []\n",
    "CLEAN_GD_FRAMES = []\n",
    "CLEAN_PHASE_FRAMES = []\n",
    "\n",
    "TIME_FRAMS = []\n",
    "\n",
    "CLEAN_PATHS = [CLEAN_PATH_MALE_28,CLEAN_PATH_FEMALE_28]\n",
    "#\n",
    "\n",
    "for C_PATHS in CLEAN_PATHS:\n",
    "    for root, dirs, files in os.walk(C_PATHS): \n",
    "        print(\"ROOT:\",root, \", len(DIR):\", len(dirs), \", len(C_FILES):\",len(files))\n",
    "        \n",
    "        for enum, filename in enumerate(sorted(files)):\n",
    "            FILE_NAME = os.path.join(root,filename)\n",
    "            y, sr = librosa.load(FILE_NAME, sr=fs)\n",
    "            \n",
    "            if 'female' in FILE_NAME:\n",
    "                resampled_file = save_enhanced(y, sr, CLEAN_PATH_FEMALE_28_16kz, filename, {'fs':'16kz'})\n",
    "            elif 'male' in FILE_NAME:\n",
    "                resampled_file = save_enhanced(y, sr, CLEAN_PATH_MALE_28_16kz, filename, {'fs':'16kz'})\n",
    "                \n",
    "            CLEAN_FILE_NAMES.append(resampled_file)\n",
    "            \n",
    "            mag_clean, gd_clean, phase_clean, angle_clean = mag_gd_phase(FILE_NAME,fs, n_fft, hop_length, win_length)\n",
    "            CLEAN_MAG_FRAMES.extend(mag_clean.T)\n",
    "            CLEAN_GD_FRAMES.extend(gd_clean.T)\n",
    "            CLEAN_PHASE_FRAMES.extend(phase_clean.T)\n",
    "            \n",
    "            TIME_FRAMS.append(mag_clean.shape[1])\n",
    "            \n",
    "            if enum == FILE_LIMIT:\n",
    "                break\n",
    "\n",
    "\n",
    "CLEAN_MAGS = np.stack(CLEAN_MAG_FRAMES,axis=1)\n",
    "CLEAN_GDS = np.stack(CLEAN_GD_FRAMES,axis=1)\n",
    "CLEAN_PHASES = np.stack(CLEAN_PHASE_FRAMES,axis=1)\n",
    "\n",
    "TIME_FRAMS = np.array(TIME_FRAMS)\n",
    "            \n",
    "print(len(CLEAN_FILE_NAMES))\n",
    "CLEAN_FILE_NAMES = np.array(CLEAN_FILE_NAMES)"
   ]
  },
  {
   "cell_type": "code",
   "execution_count": 22,
   "metadata": {},
   "outputs": [
    {
     "name": "stdout",
     "output_type": "stream",
     "text": [
      "['/data/knayem/IEEE_male_28/S_01_01.wav', '/data/knayem/IEEE_male_28/S_01_02.wav', '/data/knayem/IEEE_male_28/S_01_03.wav', '/data/knayem/IEEE_male_28/S_01_04.wav', '/data/knayem/IEEE_male_28/S_01_05.wav', '/data/knayem/IEEE_male_28/S_01_06.wav']\n"
     ]
    }
   ],
   "source": [
    "print(CLEAN_FILE_NAMES[:6])"
   ]
  },
  {
   "cell_type": "code",
   "execution_count": 67,
   "metadata": {},
   "outputs": [],
   "source": [
    "dev_filename_file = 'dev_clean_filenames.npy' if FILE_LIMIT is None else 'dev_clean_filenames'+str(FILE_LIMIT)+'.npy' #(1-d)\n",
    "\n",
    "dev_clean_mags_file = 'dev_clean_mags.npy' if FILE_LIMIT is None else 'dev_clean_mags'+str(FILE_LIMIT)+'.npy' #(321x)\n",
    "dev_clean_gds_file = 'dev_clean_gds.npy' if FILE_LIMIT is None else 'dev_clean_gds'+str(FILE_LIMIT)+'.npy'#(321x)\n",
    "dev_clean_phases_file = 'dev_clean_phases.npy' if FILE_LIMIT is None else 'dev_clean_phases'+str(FILE_LIMIT)+'.npy' #(321x)\n",
    "\n",
    "dev_timeframe_file = 'dev_timeframe.npy' if FILE_LIMIT is None else 'dev_timeframe'+str(FILE_LIMIT)+'.npy' #(1-d)\n",
    "\n",
    "\n",
    "np.save(os.path.join(FILE_SAVE_PATH,dev_filename_file), CLEAN_FILE_NAMES)\n",
    "\n",
    "np.save(os.path.join(FILE_SAVE_PATH,dev_clean_mags_file), CLEAN_MAGS)\n",
    "np.save(os.path.join(FILE_SAVE_PATH,dev_clean_gds_file), CLEAN_GDS)\n",
    "np.save(os.path.join(FILE_SAVE_PATH,dev_clean_phases_file), CLEAN_PHASES)\n",
    "\n",
    "np.save(os.path.join(FILE_SAVE_PATH,dev_timeframe_file), TIME_FRAMS)\n"
   ]
  },
  {
   "cell_type": "code",
   "execution_count": 65,
   "metadata": {},
   "outputs": [],
   "source": [
    "a = np.load(os.path.join(FILE_SAVE_PATH,dev_timeframe_file))"
   ]
  },
  {
   "cell_type": "code",
   "execution_count": 66,
   "metadata": {},
   "outputs": [
    {
     "data": {
      "text/plain": [
       "array(['/data/knayem/IEEE_male_28_16kz/S_01_01_16kz.wav',\n",
       "       '/data/knayem/IEEE_male_28_16kz/S_01_02_16kz.wav',\n",
       "       '/data/knayem/IEEE_male_28_16kz/S_01_03_16kz.wav',\n",
       "       '/data/knayem/IEEE_male_28_16kz/S_01_04_16kz.wav',\n",
       "       '/data/knayem/IEEE_male_28_16kz/S_01_05_16kz.wav',\n",
       "       '/data/knayem/IEEE_male_28_16kz/S_01_06_16kz.wav',\n",
       "       '/data/knayem/IEEE_male_28_16kz/S_01_07_16kz.wav',\n",
       "       '/data/knayem/IEEE_male_28_16kz/S_01_08_16kz.wav',\n",
       "       '/data/knayem/IEEE_male_28_16kz/S_01_09_16kz.wav',\n",
       "       '/data/knayem/IEEE_male_28_16kz/S_01_10_16kz.wav',\n",
       "       '/data/knayem/IEEE_male_28_16kz/S_02_01_16kz.wav',\n",
       "       '/data/knayem/IEEE_male_28_16kz/S_02_02_16kz.wav',\n",
       "       '/data/knayem/IEEE_male_28_16kz/S_02_03_16kz.wav',\n",
       "       '/data/knayem/IEEE_male_28_16kz/S_02_04_16kz.wav',\n",
       "       '/data/knayem/IEEE_male_28_16kz/S_02_05_16kz.wav',\n",
       "       '/data/knayem/IEEE_male_28_16kz/S_02_06_16kz.wav',\n",
       "       '/data/knayem/IEEE_male_28_16kz/S_02_07_16kz.wav',\n",
       "       '/data/knayem/IEEE_male_28_16kz/S_02_08_16kz.wav',\n",
       "       '/data/knayem/IEEE_male_28_16kz/S_02_09_16kz.wav',\n",
       "       '/data/knayem/IEEE_male_28_16kz/S_02_10_16kz.wav',\n",
       "       '/data/knayem/IEEE_male_28_16kz/S_03_01_16kz.wav',\n",
       "       '/data/knayem/IEEE_male_28_16kz/S_03_02_16kz.wav',\n",
       "       '/data/knayem/IEEE_male_28_16kz/S_03_03_16kz.wav',\n",
       "       '/data/knayem/IEEE_male_28_16kz/S_03_04_16kz.wav',\n",
       "       '/data/knayem/IEEE_male_28_16kz/S_03_05_16kz.wav',\n",
       "       '/data/knayem/IEEE_male_28_16kz/S_03_06_16kz.wav',\n",
       "       '/data/knayem/IEEE_male_28_16kz/S_03_07_16kz.wav',\n",
       "       '/data/knayem/IEEE_male_28_16kz/S_03_08_16kz.wav',\n",
       "       '/data/knayem/IEEE_female_28_16kz/l03s09_16kz.wav',\n",
       "       '/data/knayem/IEEE_female_28_16kz/l03s10_16kz.wav',\n",
       "       '/data/knayem/IEEE_female_28_16kz/l04s01_16kz.wav',\n",
       "       '/data/knayem/IEEE_female_28_16kz/l04s02_16kz.wav',\n",
       "       '/data/knayem/IEEE_female_28_16kz/l04s03_16kz.wav',\n",
       "       '/data/knayem/IEEE_female_28_16kz/l04s04_16kz.wav',\n",
       "       '/data/knayem/IEEE_female_28_16kz/l04s05_16kz.wav',\n",
       "       '/data/knayem/IEEE_female_28_16kz/l04s06_16kz.wav',\n",
       "       '/data/knayem/IEEE_female_28_16kz/l04s07_16kz.wav',\n",
       "       '/data/knayem/IEEE_female_28_16kz/l04s08_16kz.wav',\n",
       "       '/data/knayem/IEEE_female_28_16kz/l04s09_16kz.wav',\n",
       "       '/data/knayem/IEEE_female_28_16kz/l04s10_16kz.wav',\n",
       "       '/data/knayem/IEEE_female_28_16kz/l05s01_16kz.wav',\n",
       "       '/data/knayem/IEEE_female_28_16kz/l05s02_16kz.wav',\n",
       "       '/data/knayem/IEEE_female_28_16kz/l05s03_16kz.wav',\n",
       "       '/data/knayem/IEEE_female_28_16kz/l05s04_16kz.wav',\n",
       "       '/data/knayem/IEEE_female_28_16kz/l05s05_16kz.wav',\n",
       "       '/data/knayem/IEEE_female_28_16kz/l05s06_16kz.wav',\n",
       "       '/data/knayem/IEEE_female_28_16kz/l05s07_16kz.wav',\n",
       "       '/data/knayem/IEEE_female_28_16kz/l05s08_16kz.wav',\n",
       "       '/data/knayem/IEEE_female_28_16kz/l05s09_16kz.wav',\n",
       "       '/data/knayem/IEEE_female_28_16kz/l05s10_16kz.wav',\n",
       "       '/data/knayem/IEEE_female_28_16kz/l06s01_16kz.wav',\n",
       "       '/data/knayem/IEEE_female_28_16kz/l06s02_16kz.wav',\n",
       "       '/data/knayem/IEEE_female_28_16kz/l06s03_16kz.wav',\n",
       "       '/data/knayem/IEEE_female_28_16kz/l06s04_16kz.wav',\n",
       "       '/data/knayem/IEEE_female_28_16kz/l06s05_16kz.wav',\n",
       "       '/data/knayem/IEEE_female_28_16kz/l06s06_16kz.wav'], dtype='<U48')"
      ]
     },
     "execution_count": 66,
     "metadata": {},
     "output_type": "execute_result"
    }
   ],
   "source": [
    "a\n"
   ]
  },
  {
   "cell_type": "markdown",
   "metadata": {},
   "source": [
    "### 3. Read files and save"
   ]
  },
  {
   "cell_type": "code",
   "execution_count": null,
   "metadata": {},
   "outputs": [],
   "source": [
    "dev_filename_file = 'dev_clean_filenames.npy' if FILE_LIMIT is None else 'dev_clean_filenames'+str(FILE_LIMIT)+'.npy' #(1-d)\n",
    "\n",
    "dev_clean_mags_file = 'dev_clean_mags.npy' if FILE_LIMIT is None else 'dev_clean_mags'+str(FILE_LIMIT)+'.npy' #(321x)\n",
    "dev_clean_gds_file = 'dev_clean_gds.npy' if FILE_LIMIT is None else 'dev_clean_gds'+str(FILE_LIMIT)+'.npy'#(321x)\n",
    "dev_clean_phases_file = 'dev_clean_phases.npy' if FILE_LIMIT is None else 'dev_clean_phases'+str(FILE_LIMIT)+'.npy' #(321x)\n",
    "\n",
    "dev_timeframe_file = 'dev_timeframe.npy' if FILE_LIMIT is None else 'dev_timeframe'+str(FILE_LIMIT)+'.npy' #(1-d)"
   ]
  },
  {
   "cell_type": "code",
   "execution_count": null,
   "metadata": {},
   "outputs": [],
   "source": [
    "CLEAN_FILE_NAMES = []\n",
    "\n",
    "MAX_TIME_FRAME = 390 # TIMIT = 390, IEEE = 186\n",
    "\n",
    "CLEAN_MAG_FRAMES = []\n",
    "CLEAN_GD_FRAMES = []\n",
    "CLEAN_PHASE_FRAMES = []\n",
    "\n",
    "TIME_FRAMS\n",
    "\n",
    "np.load(os.path.join(FILE_SAVE_PATH,dev_filename_file), CLEAN_FILE_NAMES)\n",
    "\n",
    "np.load(os.path.join(FILE_SAVE_PATH,dev_clean_mags_file), CLEAN_MAGS)\n",
    "np.save(os.path.join(FILE_SAVE_PATH,dev_clean_gds_file), CLEAN_GDS)\n",
    "np.save(os.path.join(FILE_SAVE_PATH,dev_clean_phases_file), CLEAN_PHASES)\n",
    "\n",
    "np.save(os.path.join(FILE_SAVE_PATH,dev_timeframe_file), TIME_FRAMS)"
   ]
  },
  {
   "cell_type": "code",
   "execution_count": 238,
   "metadata": {},
   "outputs": [],
   "source": [
    "### 4.a Fixed step Quantization"
   ]
  },
  {
   "cell_type": "code",
   "execution_count": null,
   "metadata": {},
   "outputs": [],
   "source": [
    "def quantized_val(val, quant_boundary):\n",
    "    \n",
    "    proximity = abs(quant_boundary-val)\n",
    "    closest_boundary_index = np.argmin(proximity)\n",
    "    return quant_boundary[closest_boundary_index]"
   ]
  },
  {
   "cell_type": "code",
   "execution_count": null,
   "metadata": {},
   "outputs": [],
   "source": [
    "def quantized_matrix(matrix, QUANT_STEP, MAX_AMP=200,MIN_AMP=0):\n",
    "    \n",
    "    quant_boundary = np.linspace(MIN_AMP,MAX_AMP,MAX_AMP//QUANT_STEP)\n",
    "    m_shape = matrix.shape\n",
    "    \n",
    "    quantized_list = [quantized_val(v,quant_boundary) for row in matrix for v in row]\n",
    "    return np.array(quantized_list).reshape(m_shape)"
   ]
  },
  {
   "cell_type": "code",
   "execution_count": null,
   "metadata": {},
   "outputs": [],
   "source": [
    "def save_enhanced(mag, phase, fs, directory_path, directory, filename, tags=None):\n",
    "    \n",
    "    n_fft = 640\n",
    "    win_length = int(40e-3*fs) # librosa needs scalar value\n",
    "    overlap = int(20e-3*fs)\n",
    "    hop_length = win_length - overlap # librosa needs scalar value\n",
    "\n",
    "    D = mag*phase\n",
    "    enhanced = librosa.istft(D,hop_length,win_length)\n",
    "\n",
    "    \n",
    "    # enhanced filename creation\n",
    "    enhanced_filename = filename.split(\"/\")[-1]\n",
    "    name = enhanced_filename.split('.')[0]\n",
    "    \n",
    "    if tags is not None:\n",
    "        if 'serial' in tags:\n",
    "            name = \"_\".join([str(tags['serial']),name])\n",
    "        if 'quantization_tag' in tags:\n",
    "            name = \"_\".join([name,tags['quantization_tag'],str(tags['step'])])\n",
    "        if 'avg_step' in tags:\n",
    "            name = \"_\".join([name,str(tags['avg_step'])])\n",
    "\n",
    "    name = \".\".join([name,\"wav\"])\n",
    "\n",
    "    \n",
    "    # directory creation\n",
    "    save_directory = directory\n",
    "    if tags is not None:\n",
    "        if 'quantization_tag' in tags:\n",
    "            save_directory = \"_\".join([save_directory,tags['quantization_tag'],str(tags['step'])])\n",
    "                                               \n",
    "    save_directory = os.path.join(directory_path,save_directory)\n",
    "    if not os.path.exists(save_directory):\n",
    "        #print(True,save_directory, path)\n",
    "        os.mkdir(save_directory)\n",
    "    else:\n",
    "        #print(False,save_directory, path)\n",
    "        pass\n",
    "    \n",
    "    wav_filepath = os.path.join(save_directory,name)\n",
    "                                       \n",
    "    # save file\n",
    "    sf.write(wav_filepath, enhanced, int(fs))\n",
    "    print(str(tags['serial']),wav_filepath)\n",
    "    \n",
    "    return wav_filepath\n",
    "                                       "
   ]
  },
  {
   "cell_type": "code",
   "execution_count": null,
   "metadata": {},
   "outputs": [],
   "source": [
    "QUANT_STEP = 0.0009765625\n",
    "\n",
    "MAX_AMP, MIN_AMP = 200, 0\n",
    "\n",
    "ROOT_PATH = '/data/knayem'\n",
    "QUANTIZED_DIRECTORY = \"Quantized_enhanced\"\n",
    "Fixed_Step_Quantization_TAG = \"FS\"\n",
    "\n",
    "QUANT_DIRECTORY = \"Quantization_data\"\n",
    "CLEAN_QUANT_full_path_pair_file = \"clean_quant_full_path_pair.csv\""
   ]
  },
  {
   "cell_type": "code",
   "execution_count": 221,
   "metadata": {},
   "outputs": [
    {
     "data": {
      "text/plain": [
       "(321, 799)"
      ]
     },
     "execution_count": 221,
     "metadata": {},
     "output_type": "execute_result"
    }
   ],
   "source": [
    "csum_time_frame = np.cumsum(TIME_FRAMES)\n",
    "# print(csum_time_frame)\n",
    "\n",
    "fs = int(16e3)\n",
    "plt.figure(figsize=(12, 30))\n",
    "\n",
    "\n",
    "for enum, pair in enumerate(np.load(PATH_NPY)[0:len(csum_time_frame)]):\n",
    "    \n",
    "    clean_filename = pair[0]\n",
    "    mix_filename = pair[1]\n",
    "    \n",
    "    if enum == 0:\n",
    "        s = 0\n",
    "        t = csum_time_frame[enum]\n",
    "    else:\n",
    "        s = csum_time_frame[enum-1]\n",
    "        t = csum_time_frame[enum]\n",
    "    \n",
    "    mag = CLEAN_MAGS[:, s:t]\n",
    "    phase = CLEAN_PHASES[:,s:t]\n",
    "    \n",
    "    quantized_mag = quantized_matrix(mag, QUANT_STEP, MAX_AMP=200,MIN_AMP=0)\n",
    "    \n",
    "    diff_mag = abs(mag-quantized_mag)\n",
    "    total_diff = np.sum(diff_mag)\n",
    "    print(\"|Error| = \", total_diff)\n",
    "    \n",
    "    D = librosa.amplitude_to_db(mag, ref=np.max)\n",
    "    q_D = librosa.amplitude_to_db(quantized_mag, ref=np.max)\n",
    "    \n",
    "    clean_wav_full_path = save_enhanced(mag,phase,fs,ROOT_PATH,QUANTIZED_DIRECTORY,clean_filename,\n",
    "                  {'serial':enum})\n",
    "    quant_wav_full_path = save_enhanced(quantized_mag,phase,fs,ROOT_PATH,QUANTIZED_DIRECTORY,clean_filename,\n",
    "                 {'serial':enum,'quantization_tag':Fixed_Step_Quantization_TAG,'step':QUANT_STEP})\n",
    "    \n",
    "    \n",
    "    save_directory = os.path.join(ROOT_PATH,QUANT_DIRECTORY)\n",
    "    if not os.path.exists(save_directory):\n",
    "        #print(True,save_directory, path)\n",
    "        os.mkdir(save_directory)\n",
    "    \n",
    "    prefix = CLEAN_QUANT_full_path_pair_file.split(\".\")[0]\n",
    "    pair_file = \"_\".join([prefix,Fixed_Step_Quantization_TAG,str(QUANT_STEP)])\n",
    "    pair_file = \".\".join([pair_file,'csv'])\n",
    "    pair_file = os.path.join(save_directory,pair_file)\n",
    "    if not os.path.exists(pair_file):\n",
    "        mode = \"w\"\n",
    "    else:\n",
    "        mode = \"a\"\n",
    "        \n",
    "    with open(pair_file, mode) as writeFile:\n",
    "        writer = csv.writer(writeFile)\n",
    "        writer.writerow([clean_wav_full_path,quant_wav_full_path])\n",
    "        \n",
    "    writeFile.close()\n",
    "    \n",
    "    \n",
    "    # plot the spectrogram\n",
    "    plt.subplot(len(csum_time_frame), 3, 2*enum+1)\n",
    "    librosa.display.specshow(mag, y_axis='hz', x_axis='time', sr=fs)\n",
    "    plt.colorbar(format='%+2.0f dB')\n",
    "    plt.title(str(enum)+'magnitude'+clean_wav_full_path.split('/')[-1])\n",
    "    plt.subplots_adjust(hspace=0.5)\n",
    "    \n",
    "    plt.subplot(len(csum_time_frame), 3, 2*enum+2)\n",
    "    librosa.display.specshow(q_D, y_axis='hz', x_axis='time', sr=fs)\n",
    "    plt.colorbar(format='%+2.0f dB')\n",
    "    plt.title(str(enum)+'->quantized magnitude'+quant_wav_full_path.split('/')[-1])\n",
    "    plt.subplots_adjust(hspace=0.5)\n",
    "    \n",
    "    plt.subplot(len(csum_time_frame), 3, 2*enum+3)\n",
    "    librosa.display.specshow(librosa.amplitude_to_db(diff_mag, ref=np.max), y_axis='hz', x_axis='time', sr=fs)\n",
    "    plt.colorbar(format='%+2.0f dB')\n",
    "    plt.title(str(enum)+'->diff magnitude, |Error| ='+total_diff)\n",
    "    plt.subplots_adjust(hspace=0.5)\n",
    "    \n",
    "    break\n",
    "    \n",
    "    "
   ]
  }
 ],
 "metadata": {
  "kernelspec": {
   "display_name": "Python 3",
   "language": "python",
   "name": "python3"
  },
  "language_info": {
   "codemirror_mode": {
    "name": "ipython",
    "version": 3
   },
   "file_extension": ".py",
   "mimetype": "text/x-python",
   "name": "python",
   "nbconvert_exporter": "python",
   "pygments_lexer": "ipython3",
   "version": "3.6.8"
  }
 },
 "nbformat": 4,
 "nbformat_minor": 2
}
