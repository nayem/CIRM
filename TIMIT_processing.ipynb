{
 "cells": [
  {
   "cell_type": "code",
   "execution_count": 94,
   "metadata": {},
   "outputs": [
    {
     "name": "stdout",
     "output_type": "stream",
     "text": [
      "/home/knayem/anaconda3/bin/python\n"
     ]
    }
   ],
   "source": [
    "from __future__ import absolute_import\n",
    "from __future__ import division\n",
    "from __future__ import print_function\n",
    "\n",
    "import argparse\n",
    "import sys\n",
    "import math\n",
    "\n",
    "import scipy.io as sio\n",
    "import numpy as np\n",
    "import sys\n",
    "\n",
    "import time\n",
    "from shutil import copyfile, move\n",
    "\n",
    "import os\n",
    "os.environ[\"CUDA_DEVICE_ORDER\"]=\"PCI_BUS_ID\"\n",
    "os.environ[\"CUDA_VISIBLE_DEVICES\"]=\"0\"\n",
    "\n",
    "import matplotlib.pyplot as plt\n",
    "\n",
    "print(sys.executable)\n",
    "import librosa\n",
    "import soundfile\n",
    "import librosa.display\n",
    "import seaborn as sns\n",
    "\n",
    "from skimage.restoration import unwrap_phase"
   ]
  },
  {
   "cell_type": "markdown",
   "metadata": {},
   "source": [
    "### File Paths\n",
    "\n",
    "Train -> 4620 (73.33%), \n",
    "Test -> 1360 (21.59%),\n",
    "Dev -> 320 (5.08%)"
   ]
  },
  {
   "cell_type": "code",
   "execution_count": 95,
   "metadata": {},
   "outputs": [],
   "source": [
    "# CLEAN FILE TIMIT PATHS\n",
    "CLEAN_FILE_PATH_TRAINING = \"/data/SpeechCorpora/TIMIT_full/train\"\n",
    "CLEAN_FILE_PATH_TESTING = \"/data/SpeechCorpora/TIMIT_full/test\"\n",
    "\n",
    "# PROCESSED CLEAN PATH\n",
    "PROCESSED_CLEAN_FILE_PATH_TRAINING = \"/data/knayem/TIMIT_processed/train\"\n",
    "PROCESSED_CLEAN_FILE_PATH_TESTING = \"/data/knayem/TIMIT_processed/test\"\n"
   ]
  },
  {
   "cell_type": "code",
   "execution_count": 98,
   "metadata": {},
   "outputs": [],
   "source": [
    "f_count = 0\n",
    "FILES_TRAIN = [CLEAN_FILE_PATH_TRAINING, PROCESSED_CLEAN_FILE_PATH_TRAINING]\n",
    "FILES_TEST = [CLEAN_FILE_PATH_TESTING, PROCESSED_CLEAN_FILE_PATH_TESTING]\n",
    "\n",
    "FILES_CYCLE = FILES_TEST"
   ]
  },
  {
   "cell_type": "code",
   "execution_count": 99,
   "metadata": {},
   "outputs": [
    {
     "name": "stdout",
     "output_type": "stream",
     "text": [
      "Total file write 1680 -> /data/knayem/TIMIT_processed/test\n"
     ]
    }
   ],
   "source": [
    "for root, dirs, files in os.walk(FILES_CYCLE[0]):\n",
    "#     print(root, len(dirs), len(files))\n",
    "\n",
    "    if len(files):\n",
    "        splt = root.rsplit(\"/\",2)\n",
    "#         print(\"_\".join(splt[1:]), len(files))\n",
    "        \n",
    "        wav_files = list(filter(lambda f: f.find(\".wav\")>0, files))\n",
    "        \n",
    "        for filename in wav_files:\n",
    "            FILE_NAME = \"/\".join([root,filename])\n",
    "            \n",
    "            splt.append(filename)\n",
    "            n_filename = \"_\".join(splt[1:])\n",
    "            n_file_path = \"/\".join([FILES_CYCLE[1],n_filename])\n",
    "            \n",
    "#             print(FILE_NAME,\"<->\",n_file_path)\n",
    "            copyfile(FILE_NAME, n_file_path) # copyfile(src, dst)\n",
    "            splt = splt[:-1]\n",
    "            \n",
    "            f_count += 1\n",
    "            \n",
    "print(\"Total file write\", f_count, \"->\", FILES_CYCLE[1])\n",
    "        \n",
    "        "
   ]
  },
  {
   "cell_type": "code",
   "execution_count": 100,
   "metadata": {},
   "outputs": [],
   "source": [
    "# PROCESSED CLEAN PATH\n",
    "PROCESSED_CLEAN_FILE_PATH_DEV = \"/data/knayem/TIMIT_processed/dev\"\n",
    "\n",
    "NUM_FILES = 320\n",
    "f_count = 0"
   ]
  },
  {
   "cell_type": "code",
   "execution_count": 101,
   "metadata": {},
   "outputs": [
    {
     "name": "stdout",
     "output_type": "stream",
     "text": [
      "Total file write 320 -> /data/knayem/TIMIT_processed/dev\n"
     ]
    }
   ],
   "source": [
    "for root, dirs, files in os.walk(PROCESSED_CLEAN_FILE_PATH_TESTING):\n",
    "    files.sort()\n",
    "    \n",
    "    for filename in files[:NUM_FILES]:\n",
    "        SRC_FILE_NAME = \"/\".join([root,filename])\n",
    "        DES_FILE_NAME = \"/\".join([PROCESSED_CLEAN_FILE_PATH_DEV,filename])\n",
    "            \n",
    "#         print(SRC_FILE_NAME, \"-->\", DES_FILE_NAME)\n",
    "        move(SRC_FILE_NAME, DES_FILE_NAME) # move(src, dst)\n",
    "        f_count += 1\n",
    "            \n",
    "print(\"Total file write\", f_count, \"->\", PROCESSED_CLEAN_FILE_PATH_DEV)\n",
    "    "
   ]
  },
  {
   "cell_type": "code",
   "execution_count": null,
   "metadata": {},
   "outputs": [],
   "source": []
  }
 ],
 "metadata": {
  "kernelspec": {
   "display_name": "Python 3",
   "language": "python",
   "name": "python3"
  },
  "language_info": {
   "codemirror_mode": {
    "name": "ipython",
    "version": 3
   },
   "file_extension": ".py",
   "mimetype": "text/x-python",
   "name": "python",
   "nbconvert_exporter": "python",
   "pygments_lexer": "ipython3",
   "version": "3.6.8"
  }
 },
 "nbformat": 4,
 "nbformat_minor": 2
}
