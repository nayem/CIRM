{
 "cells": [
  {
   "cell_type": "markdown",
   "metadata": {},
   "source": [
    "# Quantized Clean\n",
    "\n",
    "Make clean quantized wavs to /data directories."
   ]
  },
  {
   "cell_type": "markdown",
   "metadata": {},
   "source": [
    "# 1. Import libraries"
   ]
  },
  {
   "cell_type": "code",
   "execution_count": 1,
   "metadata": {},
   "outputs": [
    {
     "name": "stdout",
     "output_type": "stream",
     "text": [
      "/home/knayem/anaconda3/bin/python\n"
     ]
    }
   ],
   "source": [
    "from __future__ import absolute_import\n",
    "from __future__ import division\n",
    "from __future__ import print_function\n",
    "\n",
    "import argparse\n",
    "import sys\n",
    "import math\n",
    "import array\n",
    "\n",
    "import re\n",
    "\n",
    "import scipy.io as sio\n",
    "import numpy as np\n",
    "import sys\n",
    "\n",
    "import time\n",
    "\n",
    "import os\n",
    "os.environ[\"CUDA_DEVICE_ORDER\"]=\"PCI_BUS_ID\"\n",
    "os.environ[\"CUDA_VISIBLE_DEVICES\"]=\"0\"\n",
    "\n",
    "import matplotlib.pyplot as plt\n",
    "\n",
    "print(sys.executable)\n",
    "import librosa\n",
    "import soundfile as sf\n",
    "import librosa.display\n",
    "import seaborn as sns\n",
    "\n",
    "from skimage.restoration import unwrap_phase"
   ]
  },
  {
   "cell_type": "markdown",
   "metadata": {},
   "source": [
    "# 2. Helping Functions (a) "
   ]
  },
  {
   "cell_type": "code",
   "execution_count": 2,
   "metadata": {},
   "outputs": [],
   "source": [
    "def replace_rev(string, old, new, times=1):\n",
    "    '''\n",
    "    Replace a substring (old) with another substring (new) from a string (string) \n",
    "    in total a fixed number (times) of times.\n",
    "    '''\n",
    "    \n",
    "    ls = string.split(old)\n",
    "    length = len(ls)\n",
    "    \n",
    "    # times can be atmost (length-1)\n",
    "    times = times if (length-1)>=times else (length-1)\n",
    "    \n",
    "    new_string = old.join(ls[:length-times])\n",
    "    \n",
    "    for t in range(times,0,-1):\n",
    "        new_string = new.join([new_string,ls[length-t]])\n",
    "                               \n",
    "    return new_string"
   ]
  },
  {
   "cell_type": "markdown",
   "metadata": {},
   "source": [
    "# 3. Variables (a)"
   ]
  },
  {
   "cell_type": "code",
   "execution_count": 3,
   "metadata": {},
   "outputs": [],
   "source": [
    "# .NPY FILE PATH\n",
    "FILE_SAVE_PATH = '/data/knayem/Quantized_DataFiles' # store .npy data file path for quick access\n"
   ]
  },
  {
   "cell_type": "markdown",
   "metadata": {},
   "source": [
    "# 4. Paths "
   ]
  },
  {
   "cell_type": "code",
   "execution_count": 4,
   "metadata": {},
   "outputs": [],
   "source": [
    "ROOT_PATH = '/data'\n",
    "USER_PATH = 'knayem'\n",
    "\n",
    "ROOT_USER_PATH = os.path.join(ROOT_PATH,USER_PATH)"
   ]
  },
  {
   "cell_type": "markdown",
   "metadata": {},
   "source": [
    "### IEEE MALE Dataset"
   ]
  },
  {
   "cell_type": "code",
   "execution_count": 5,
   "metadata": {},
   "outputs": [],
   "source": [
    "IEEE_MALE_CORPORA_PATH = os.path.join(ROOT_PATH,'SpeechCorpora/IEEE_male') # male"
   ]
  },
  {
   "cell_type": "markdown",
   "metadata": {},
   "source": [
    "### IEEE FEMALE Dataset"
   ]
  },
  {
   "cell_type": "code",
   "execution_count": null,
   "metadata": {},
   "outputs": [],
   "source": [
    "IEEE_FEMALE_CORPORA_PATH = os.path.join(ROOT_PATH,'SpeechCorpora/IEEE_female') # female"
   ]
  },
  {
   "cell_type": "code",
   "execution_count": 6,
   "metadata": {},
   "outputs": [],
   "source": [
    "# Train, Dev, Test Folders for Clean and Mixs\n",
    "TRAIN_CLEAN_FOLDER = 'train_16k'\n",
    "DEV_CLEAN_FOLDER = 'dev_16k'\n",
    "TEST_CLEAN_PFOLDER = 'test_16k'"
   ]
  },
  {
   "cell_type": "markdown",
   "metadata": {},
   "source": [
    "#### 4.a Clean"
   ]
  },
  {
   "cell_type": "code",
   "execution_count": 7,
   "metadata": {},
   "outputs": [],
   "source": [
    "# CLEAN 16kHz PATH\n",
    "CLEAN_wavs_PATH = os.path.join(ROOT_USER_PATH,'IEEE_male_clean_16k') # male\n",
    "# CLEAN_wavs_PATH = os.path.join(ROOT_USER_PATH,'IEEE_female_clean_16k') # female\n",
    "\n",
    "CLEAN_wavs_TRAIN_PATH = os.path.join(CLEAN_wavs_PATH, TRAIN_CLEAN_FOLDER)\n",
    "CLEAN_wavs_DEV_PATH = os.path.join(CLEAN_wavs_PATH, DEV_CLEAN_FOLDER)\n",
    "CLEAN_wavs_TEST_PATH = os.path.join(CLEAN_wavs_PATH, TEST_CLEAN_PFOLDER)"
   ]
  },
  {
   "cell_type": "markdown",
   "metadata": {},
   "source": [
    "#### Path Summaray"
   ]
  },
  {
   "cell_type": "code",
   "execution_count": 8,
   "metadata": {},
   "outputs": [
    {
     "name": "stdout",
     "output_type": "stream",
     "text": [
      "Root path, /data\n",
      "\t|-> Root User path, /data/knayem\n",
      "\n",
      "IEEE Male Data Corpora path, /data/SpeechCorpora/IEEE_male\n"
     ]
    },
    {
     "ename": "NameError",
     "evalue": "name 'IEEE_FEMALE_CORPORA_PATH' is not defined",
     "output_type": "error",
     "traceback": [
      "\u001b[0;31m---------------------------------------------------------------------------\u001b[0m",
      "\u001b[0;31mNameError\u001b[0m                                 Traceback (most recent call last)",
      "\u001b[0;32m<ipython-input-8-5c814ff135ef>\u001b[0m in \u001b[0;36m<module>\u001b[0;34m\u001b[0m\n\u001b[1;32m      3\u001b[0m \u001b[0mprint\u001b[0m\u001b[0;34m(\u001b[0m\u001b[0;34m)\u001b[0m\u001b[0;34m\u001b[0m\u001b[0;34m\u001b[0m\u001b[0m\n\u001b[1;32m      4\u001b[0m \u001b[0mprint\u001b[0m\u001b[0;34m(\u001b[0m\u001b[0;34m\"IEEE Male Data Corpora path,\"\u001b[0m\u001b[0;34m,\u001b[0m \u001b[0mIEEE_MALE_CORPORA_PATH\u001b[0m\u001b[0;34m)\u001b[0m\u001b[0;34m\u001b[0m\u001b[0;34m\u001b[0m\u001b[0m\n\u001b[0;32m----> 5\u001b[0;31m \u001b[0mprint\u001b[0m\u001b[0;34m(\u001b[0m\u001b[0;34m\"IEEE Female Data Corpora path,\"\u001b[0m\u001b[0;34m,\u001b[0m \u001b[0mIEEE_FEMALE_CORPORA_PATH\u001b[0m\u001b[0;34m)\u001b[0m\u001b[0;34m\u001b[0m\u001b[0;34m\u001b[0m\u001b[0m\n\u001b[0m\u001b[1;32m      6\u001b[0m \u001b[0mprint\u001b[0m\u001b[0;34m(\u001b[0m\u001b[0;34m)\u001b[0m\u001b[0;34m\u001b[0m\u001b[0;34m\u001b[0m\u001b[0m\n\u001b[1;32m      7\u001b[0m \u001b[0mprint\u001b[0m\u001b[0;34m(\u001b[0m\u001b[0;34m\"Clean .WAV path,\"\u001b[0m\u001b[0;34m,\u001b[0m \u001b[0mCLEAN_wavs_PATH\u001b[0m\u001b[0;34m)\u001b[0m\u001b[0;34m\u001b[0m\u001b[0;34m\u001b[0m\u001b[0m\n",
      "\u001b[0;31mNameError\u001b[0m: name 'IEEE_FEMALE_CORPORA_PATH' is not defined"
     ]
    }
   ],
   "source": [
    "print(\"Root path,\", ROOT_PATH)\n",
    "print(\"\\t|-> Root User path,\", ROOT_USER_PATH)\n",
    "print()\n",
    "print(\"IEEE Male Data Corpora path,\", IEEE_MALE_CORPORA_PATH)\n",
    "print(\"IEEE Female Data Corpora path,\", IEEE_FEMALE_CORPORA_PATH)\n",
    "print()\n",
    "print(\"Clean .WAV path,\", CLEAN_wavs_PATH)\n",
    "print(\"\\t|-> Train Clean .WAV path,\", CLEAN_wavs_TRAIN_PATH)\n",
    "print(\"\\t|-> Dev Clean .WAV path,\", CLEAN_wavs_DEV_PATH)\n",
    "print(\"\\t|-> Test Clean .WAV path,\", CLEAN_wavs_TEST_PATH)\n",
    "print()\n",
    "print(\"Mix SSN .WAV path,\", SSN_wavs_PATH)\n",
    "print(\"\\t|-> Train Mix SSN .WAV path,\", SSN_wavs_TRAIN_PATH)\n",
    "print(\"\\t|-> Dev Mix SSN .WAV path,\", SSN_wavs_DEV_PATH)\n",
    "print(\"\\t|-> Test Mix SSN .WAV path,\", SSN_wavs_TEST_PATH)\n",
    "print()\n",
    "print(\"Mix CAFE .WAV path,\", CAFE_MIXTURE_PATH)\n",
    "print(\"\\t|-> Train Mix CAFE .WAV path,\", CAFE_wavs_TRAIN_PATH)\n",
    "print(\"\\t|-> Dev Mix CAFE .WAV path,\", CAFE_wavs_DEV_PATH)\n",
    "print(\"\\t|-> Test Mix CAFE .WAV path,\", CAFE_wavs_TEST_PATH)\n",
    "print()\n",
    "print(\"Mix BABBLE .WAV path,\", BABBLE_MIXTURE_PATH)\n",
    "print(\"\\t|-> Train Mix BABBLE .WAV path,\", BABBLE_wavs_TRAIN_PATH)\n",
    "print(\"\\t|-> Dev Mix BABBLE .WAV path,\", BABBLE_wavs_DEV_PATH)\n",
    "print(\"\\t|-> Test Mix BABBLE .WAV path,\", BABBLE_wavs_TEST_PATH)\n",
    "print()\n",
    "print(\"Mix FACTORY .WAV path,\", FACTORY_MIXTURE_PATH)\n",
    "print(\"\\t|-> Train Mix FACTORY .WAV path,\", FACTORY_wavs_TRAIN_PATH)\n",
    "print(\"\\t|-> Dev Mix FACTORY .WAV path,\", FACTORY_wavs_DEV_PATH)\n",
    "print(\"\\t|-> Test Mix FACTORY .WAV path,\", FACTORY_wavs_TEST_PATH)\n",
    "print()\n",
    "print(\"Enhanced .WAV path,\", Enhanced_wavs_PATH)\n",
    "print(\"\\t|-> SSN Enhanced .WAV path,\", SSN_Enhanced_wavs_PATH)\n",
    "print(\"\\t|-> FACTORY Enhanced .WAV path,\", FACTORY_Enhanced_wavs_PATH)\n",
    "print(\"\\t|-> BABBLE Enhanced .WAV path,\", BABBLE_Enhanced_wavs_PATH)\n",
    "print(\"\\t|-> FACTORY Enhanced .WAV path,\", FACTORY_Enhanced_wavs_PATH)"
   ]
  },
  {
   "cell_type": "markdown",
   "metadata": {},
   "source": [
    "### TIMIT Dataset "
   ]
  },
  {
   "cell_type": "markdown",
   "metadata": {},
   "source": [
    "#### 2.a Mixture (Noisy)"
   ]
  },
  {
   "cell_type": "raw",
   "metadata": {},
   "source": [
    "# .NPY FILE PATH\n",
    "FILE_SAVE_PATH = '/data/knayem/TIMIT_DataFiles'\n",
    "\n",
    "# SSN PATH\n",
    "SSN_MIXTURE_PATH = '/data/knayem/TIMIT_mixture/ssn'\n",
    "\n",
    "# CAFE PATH\n",
    "CAFE_MIXTURE_PATH = '/data/knayem/TIMIT_mixture/cafe'\n",
    "\n",
    "# BABBLE PATH\n",
    "BABBLE_MIXTURE_PATH = '/data/knayem/TIMIT_mixture/babble'\n",
    "\n",
    "# FACTORY PATH\n",
    "FACTORY_MIXTURE_PATH = '/data/knayem/TIMIT_mixture/factory'\n",
    "\n",
    "\n",
    "# Train, Dev, Test\n",
    "TRAIN_MIXTURE_PATH = 'train_16k'\n",
    "DEV_MIXTURE_PATH = 'dev_16k'\n",
    "TEST_MIXTURE_PATH = 'test_16k'"
   ]
  },
  {
   "cell_type": "markdown",
   "metadata": {},
   "source": [
    "#### Clean"
   ]
  },
  {
   "cell_type": "raw",
   "metadata": {},
   "source": [
    "# CLEAN PATH\n",
    "CLEAN_PATH = '/data/knayem/TIMIT_clean_16k'\n",
    "\n",
    "# Train, Dev, Test\n",
    "TRAIN_CLEAN_PATH = 'train_16k'\n",
    "DEV_CLEAN_PATH = 'dev_16k'\n",
    "TEST_CLEAN_PATH = 'test_16k'"
   ]
  },
  {
   "cell_type": "code",
   "execution_count": null,
   "metadata": {},
   "outputs": [],
   "source": [
    "# PATH = os.path.join(CLEAN_PATH,TRAIN_CLEAN_PATH) # clean train\n",
    "# PATH = os.path.join(CLEAN_PATH,DEV_CLEAN_PATH) # clean dev\n",
    "PATH = os.path.join(CLEAN_PATH,TEST_CLEAN_PATH) # clean test"
   ]
  },
  {
   "cell_type": "markdown",
   "metadata": {},
   "source": [
    "# 5. STFT"
   ]
  },
  {
   "cell_type": "markdown",
   "metadata": {},
   "source": [
    "### 5.a Parameters \n",
    "\n",
    "Followings are the basic parameter for calculating STFT."
   ]
  },
  {
   "cell_type": "code",
   "execution_count": 9,
   "metadata": {},
   "outputs": [
    {
     "name": "stdout",
     "output_type": "stream",
     "text": [
      "window: 640, noverlap: 320, nfft: 640, fs: 16000, hop_length: 320\n"
     ]
    }
   ],
   "source": [
    "fs = int(16e3)\n",
    "\n",
    "n_fft = 640\n",
    "win_length = int(40e-3*fs) # librosa needs scalar value\n",
    "overlap = int(20e-3*fs)\n",
    "hop_length = win_length - overlap # librosa needs scalar value\n",
    "\n",
    "NUMS_PRINTS = 10\n",
    "\n",
    "print('window: {0}, noverlap: {1}, nfft: {2}, fs: {3}, hop_length: {4}'.\n",
    "      format(win_length,overlap,n_fft,fs,hop_length))"
   ]
  },
  {
   "cell_type": "markdown",
   "metadata": {},
   "source": [
    "### 5.b STFT function\n",
    "\n",
    "Calculate Magnitude and Group Delay of the PATH (train, dev, test of IEEE/TIMIT) to get an overview of the data."
   ]
  },
  {
   "cell_type": "code",
   "execution_count": 10,
   "metadata": {},
   "outputs": [],
   "source": [
    "def mag_gd_phase(filename, fs, n_fft, hop_length, win_length):\n",
    "    \n",
    "    y, sr = librosa.load(filename, sr=fs)\n",
    "    s_stft = librosa.stft(y,n_fft,hop_length,win_length)\n",
    "    mag, phase = librosa.magphase(s_stft)\n",
    "    angle = np.angle(phase)\n",
    "\n",
    "    unwrap_angle = np.unwrap(angle, axis=0) # freq, MATLAB implementation\n",
    "    unwrap_angle_s = np.roll(unwrap_angle, 1, axis=0) # roll across freq\n",
    "    unwrap_GD = np.angle(np.exp(1j*(unwrap_angle - unwrap_angle_s))) # paper implementation\n",
    "\n",
    "    return len(y), mag, unwrap_GD, phase, angle"
   ]
  },
  {
   "cell_type": "markdown",
   "metadata": {},
   "source": [
    "## 6. Fixed step Quantization"
   ]
  },
  {
   "cell_type": "code",
   "execution_count": 11,
   "metadata": {},
   "outputs": [],
   "source": [
    "def quantized_val(val, quant_boundary):\n",
    "    \n",
    "    proximity = abs(quant_boundary-val)\n",
    "    closest_boundary_index = np.argmin(proximity)\n",
    "    return quant_boundary[closest_boundary_index]"
   ]
  },
  {
   "cell_type": "code",
   "execution_count": 12,
   "metadata": {},
   "outputs": [],
   "source": [
    "def quantized_matrix(matrix, QUANT_STEP, MAX_AMP=200,MIN_AMP=0):\n",
    "    \n",
    "    quant_boundary = np.linspace(MIN_AMP,MAX_AMP,MAX_AMP//QUANT_STEP)\n",
    "    m_shape = matrix.shape\n",
    "    \n",
    "    quantized_list = [quantized_val(v,quant_boundary) for row in matrix for v in row]\n",
    "    return np.array(quantized_list).reshape(m_shape)"
   ]
  },
  {
   "cell_type": "code",
   "execution_count": 20,
   "metadata": {},
   "outputs": [],
   "source": [
    "def save_enhanced(mag, phase, fs, n_fft, hop_length, win_length, target_directory, filename, tags=None):\n",
    "    \n",
    "    D = mag*phase\n",
    "    enhanced = librosa.istft(D,hop_length,win_length)\n",
    "    \n",
    "    # enhanced filename creation\n",
    "    name = filename.split('.')[0]\n",
    "    \n",
    "    if tags is not None:\n",
    "        if 'quantization_tag' in tags:\n",
    "            name = \"_\".join([name,tags['quantization_tag'],str(tags['step'])])\n",
    "        if 'avg_step' in tags:\n",
    "            name = \"_\".join([name,str(tags['avg_step'])])\n",
    "\n",
    "    name = \".\".join([name,\"wav\"])\n",
    "\n",
    "    \n",
    "    # directory creation   \n",
    "    if not os.path.exists(target_directory):\n",
    "        print(False,target_directory)\n",
    "        os.makedirs(target_directory)\n",
    "    else:\n",
    "        print(True,target_directory)\n",
    "        pass\n",
    "    \n",
    "    wav_filepath = os.path.join(target_directory,name)\n",
    "                                       \n",
    "    # save file\n",
    "    sf.write(wav_filepath, enhanced, int(fs))\n",
    "    #print(wav_filepath)\n",
    "    \n",
    "    return wav_filepath\n",
    "                                       "
   ]
  },
  {
   "cell_type": "code",
   "execution_count": 21,
   "metadata": {},
   "outputs": [],
   "source": [
    "MAX_AMP, MIN_AMP = 100, 0\n",
    "\n",
    "QUANTIZED_DIRECTORY_TAG = \"Quantized\"\n",
    "Fixed_Step_Quantization_TAG = \"FS\""
   ]
  },
  {
   "cell_type": "code",
   "execution_count": 22,
   "metadata": {},
   "outputs": [],
   "source": [
    "corpora_path_list = [CLEAN_wavs_PATH]\n",
    "\n",
    "# [0.25, 0.125, 0.0625, 0.03125, 0.015625, 0.0078125 0.00390625]\n",
    "QUANT_STEP_LIST = [0.0625]"
   ]
  },
  {
   "cell_type": "code",
   "execution_count": 23,
   "metadata": {},
   "outputs": [
    {
     "name": "stdout",
     "output_type": "stream",
     "text": [
      "0 CORPORA: /data/knayem/IEEE_male_clean_16k\n",
      "ROOT: /data/knayem/IEEE_male_clean_16k , len(DIR): 3 , len(FILES): 0 IEEE_male_clean_16k\n",
      "ROOT: /data/knayem/IEEE_male_clean_16k/test_16k , len(DIR): 0 , len(FILES): 110 test_16k\n"
     ]
    },
    {
     "name": "stderr",
     "output_type": "stream",
     "text": [
      "/home/knayem/anaconda3/lib/python3.6/site-packages/ipykernel_launcher.py:3: DeprecationWarning: object of type <class 'float'> cannot be safely interpreted as an integer.\n",
      "  This is separate from the ipykernel package so we can avoid doing imports until\n"
     ]
    },
    {
     "name": "stdout",
     "output_type": "stream",
     "text": [
      "0 |Error| =  433.06206890193886\n",
      "False /data/knayem/IEEE_male_clean_16k_Quantized/test_16k_FS_0.0625\n",
      "/data/knayem/IEEE_male_clean_16k/test_16k/S_62_01_16k.wav <-> /data/knayem/IEEE_male_clean_16k_Quantized/test_16k_FS_0.0625/S_62_01_16k_FS_0.0625.wav\n",
      "1 |Error| =  452.48037723053716\n",
      "True /data/knayem/IEEE_male_clean_16k_Quantized/test_16k_FS_0.0625\n",
      "/data/knayem/IEEE_male_clean_16k/test_16k/S_62_02_16k.wav <-> /data/knayem/IEEE_male_clean_16k_Quantized/test_16k_FS_0.0625/S_62_02_16k_FS_0.0625.wav\n",
      "2 |Error| =  560.6148941240745\n",
      "True /data/knayem/IEEE_male_clean_16k_Quantized/test_16k_FS_0.0625\n",
      "/data/knayem/IEEE_male_clean_16k/test_16k/S_62_03_16k.wav <-> /data/knayem/IEEE_male_clean_16k_Quantized/test_16k_FS_0.0625/S_62_03_16k_FS_0.0625.wav\n",
      "3 |Error| =  456.3120123746147\n",
      "True /data/knayem/IEEE_male_clean_16k_Quantized/test_16k_FS_0.0625\n",
      "/data/knayem/IEEE_male_clean_16k/test_16k/S_62_04_16k.wav <-> /data/knayem/IEEE_male_clean_16k_Quantized/test_16k_FS_0.0625/S_62_04_16k_FS_0.0625.wav\n",
      "4 |Error| =  541.9107445884691\n",
      "True /data/knayem/IEEE_male_clean_16k_Quantized/test_16k_FS_0.0625\n",
      "/data/knayem/IEEE_male_clean_16k/test_16k/S_62_05_16k.wav <-> /data/knayem/IEEE_male_clean_16k_Quantized/test_16k_FS_0.0625/S_62_05_16k_FS_0.0625.wav\n",
      "5 |Error| =  568.0498972456027\n",
      "True /data/knayem/IEEE_male_clean_16k_Quantized/test_16k_FS_0.0625\n",
      "/data/knayem/IEEE_male_clean_16k/test_16k/S_62_06_16k.wav <-> /data/knayem/IEEE_male_clean_16k_Quantized/test_16k_FS_0.0625/S_62_06_16k_FS_0.0625.wav\n",
      "6 |Error| =  508.24856395381096\n",
      "True /data/knayem/IEEE_male_clean_16k_Quantized/test_16k_FS_0.0625\n",
      "/data/knayem/IEEE_male_clean_16k/test_16k/S_62_07_16k.wav <-> /data/knayem/IEEE_male_clean_16k_Quantized/test_16k_FS_0.0625/S_62_07_16k_FS_0.0625.wav\n",
      "7 |Error| =  587.3268388375715\n",
      "True /data/knayem/IEEE_male_clean_16k_Quantized/test_16k_FS_0.0625\n",
      "/data/knayem/IEEE_male_clean_16k/test_16k/S_62_08_16k.wav <-> /data/knayem/IEEE_male_clean_16k_Quantized/test_16k_FS_0.0625/S_62_08_16k_FS_0.0625.wav\n",
      "8 |Error| =  489.28673970191875\n",
      "True /data/knayem/IEEE_male_clean_16k_Quantized/test_16k_FS_0.0625\n",
      "/data/knayem/IEEE_male_clean_16k/test_16k/S_62_09_16k.wav <-> /data/knayem/IEEE_male_clean_16k_Quantized/test_16k_FS_0.0625/S_62_09_16k_FS_0.0625.wav\n",
      "9 |Error| =  476.26248145593433\n",
      "True /data/knayem/IEEE_male_clean_16k_Quantized/test_16k_FS_0.0625\n",
      "/data/knayem/IEEE_male_clean_16k/test_16k/S_62_10_16k.wav <-> /data/knayem/IEEE_male_clean_16k_Quantized/test_16k_FS_0.0625/S_62_10_16k_FS_0.0625.wav\n",
      "10 |Error| =  510.9684997391414\n",
      "True /data/knayem/IEEE_male_clean_16k_Quantized/test_16k_FS_0.0625\n",
      "/data/knayem/IEEE_male_clean_16k/test_16k/S_63_01_16k.wav <-> /data/knayem/IEEE_male_clean_16k_Quantized/test_16k_FS_0.0625/S_63_01_16k_FS_0.0625.wav\n",
      "ROOT: /data/knayem/IEEE_male_clean_16k/train_16k , len(DIR): 0 , len(FILES): 500 train_16k\n",
      "0 |Error| =  608.1499376455063\n",
      "False /data/knayem/IEEE_male_clean_16k_Quantized/train_16k_FS_0.0625\n",
      "/data/knayem/IEEE_male_clean_16k/train_16k/S_01_01_16k.wav <-> /data/knayem/IEEE_male_clean_16k_Quantized/train_16k_FS_0.0625/S_01_01_16k_FS_0.0625.wav\n",
      "1 |Error| =  460.22765322990506\n",
      "True /data/knayem/IEEE_male_clean_16k_Quantized/train_16k_FS_0.0625\n",
      "/data/knayem/IEEE_male_clean_16k/train_16k/S_01_02_16k.wav <-> /data/knayem/IEEE_male_clean_16k_Quantized/train_16k_FS_0.0625/S_01_02_16k_FS_0.0625.wav\n",
      "2 |Error| =  476.29704315238115\n",
      "True /data/knayem/IEEE_male_clean_16k_Quantized/train_16k_FS_0.0625\n",
      "/data/knayem/IEEE_male_clean_16k/train_16k/S_01_03_16k.wav <-> /data/knayem/IEEE_male_clean_16k_Quantized/train_16k_FS_0.0625/S_01_03_16k_FS_0.0625.wav\n",
      "3 |Error| =  604.1413695840574\n",
      "True /data/knayem/IEEE_male_clean_16k_Quantized/train_16k_FS_0.0625\n",
      "/data/knayem/IEEE_male_clean_16k/train_16k/S_01_04_16k.wav <-> /data/knayem/IEEE_male_clean_16k_Quantized/train_16k_FS_0.0625/S_01_04_16k_FS_0.0625.wav\n",
      "4 |Error| =  557.3248946558372\n",
      "True /data/knayem/IEEE_male_clean_16k_Quantized/train_16k_FS_0.0625\n",
      "/data/knayem/IEEE_male_clean_16k/train_16k/S_01_05_16k.wav <-> /data/knayem/IEEE_male_clean_16k_Quantized/train_16k_FS_0.0625/S_01_05_16k_FS_0.0625.wav\n",
      "5 |Error| =  550.6993667092261\n",
      "True /data/knayem/IEEE_male_clean_16k_Quantized/train_16k_FS_0.0625\n",
      "/data/knayem/IEEE_male_clean_16k/train_16k/S_01_06_16k.wav <-> /data/knayem/IEEE_male_clean_16k_Quantized/train_16k_FS_0.0625/S_01_06_16k_FS_0.0625.wav\n",
      "6 |Error| =  542.4527588650847\n",
      "True /data/knayem/IEEE_male_clean_16k_Quantized/train_16k_FS_0.0625\n",
      "/data/knayem/IEEE_male_clean_16k/train_16k/S_01_07_16k.wav <-> /data/knayem/IEEE_male_clean_16k_Quantized/train_16k_FS_0.0625/S_01_07_16k_FS_0.0625.wav\n",
      "7 |Error| =  578.6988697656114\n",
      "True /data/knayem/IEEE_male_clean_16k_Quantized/train_16k_FS_0.0625\n",
      "/data/knayem/IEEE_male_clean_16k/train_16k/S_01_08_16k.wav <-> /data/knayem/IEEE_male_clean_16k_Quantized/train_16k_FS_0.0625/S_01_08_16k_FS_0.0625.wav\n",
      "8 |Error| =  503.1329497938333\n",
      "True /data/knayem/IEEE_male_clean_16k_Quantized/train_16k_FS_0.0625\n",
      "/data/knayem/IEEE_male_clean_16k/train_16k/S_01_09_16k.wav <-> /data/knayem/IEEE_male_clean_16k_Quantized/train_16k_FS_0.0625/S_01_09_16k_FS_0.0625.wav\n",
      "9 |Error| =  702.4752048494951\n",
      "True /data/knayem/IEEE_male_clean_16k_Quantized/train_16k_FS_0.0625\n",
      "/data/knayem/IEEE_male_clean_16k/train_16k/S_01_10_16k.wav <-> /data/knayem/IEEE_male_clean_16k_Quantized/train_16k_FS_0.0625/S_01_10_16k_FS_0.0625.wav\n",
      "10 |Error| =  399.70235824095823\n",
      "True /data/knayem/IEEE_male_clean_16k_Quantized/train_16k_FS_0.0625\n",
      "/data/knayem/IEEE_male_clean_16k/train_16k/S_02_01_16k.wav <-> /data/knayem/IEEE_male_clean_16k_Quantized/train_16k_FS_0.0625/S_02_01_16k_FS_0.0625.wav\n",
      "ROOT: /data/knayem/IEEE_male_clean_16k/dev_16k , len(DIR): 0 , len(FILES): 110 dev_16k\n",
      "0 |Error| =  489.0178311191539\n",
      "False /data/knayem/IEEE_male_clean_16k_Quantized/dev_16k_FS_0.0625\n",
      "/data/knayem/IEEE_male_clean_16k/dev_16k/S_51_01_16k.wav <-> /data/knayem/IEEE_male_clean_16k_Quantized/dev_16k_FS_0.0625/S_51_01_16k_FS_0.0625.wav\n",
      "1 |Error| =  400.1759407677704\n",
      "True /data/knayem/IEEE_male_clean_16k_Quantized/dev_16k_FS_0.0625\n",
      "/data/knayem/IEEE_male_clean_16k/dev_16k/S_51_02_16k.wav <-> /data/knayem/IEEE_male_clean_16k_Quantized/dev_16k_FS_0.0625/S_51_02_16k_FS_0.0625.wav\n",
      "2 |Error| =  488.67028650681056\n",
      "True /data/knayem/IEEE_male_clean_16k_Quantized/dev_16k_FS_0.0625\n",
      "/data/knayem/IEEE_male_clean_16k/dev_16k/S_51_03_16k.wav <-> /data/knayem/IEEE_male_clean_16k_Quantized/dev_16k_FS_0.0625/S_51_03_16k_FS_0.0625.wav\n",
      "3 |Error| =  494.7662427289213\n",
      "True /data/knayem/IEEE_male_clean_16k_Quantized/dev_16k_FS_0.0625\n",
      "/data/knayem/IEEE_male_clean_16k/dev_16k/S_51_04_16k.wav <-> /data/knayem/IEEE_male_clean_16k_Quantized/dev_16k_FS_0.0625/S_51_04_16k_FS_0.0625.wav\n",
      "4 |Error| =  488.08279011015424\n",
      "True /data/knayem/IEEE_male_clean_16k_Quantized/dev_16k_FS_0.0625\n",
      "/data/knayem/IEEE_male_clean_16k/dev_16k/S_51_05_16k.wav <-> /data/knayem/IEEE_male_clean_16k_Quantized/dev_16k_FS_0.0625/S_51_05_16k_FS_0.0625.wav\n",
      "5 |Error| =  439.73219718714745\n",
      "True /data/knayem/IEEE_male_clean_16k_Quantized/dev_16k_FS_0.0625\n",
      "/data/knayem/IEEE_male_clean_16k/dev_16k/S_51_06_16k.wav <-> /data/knayem/IEEE_male_clean_16k_Quantized/dev_16k_FS_0.0625/S_51_06_16k_FS_0.0625.wav\n",
      "6 |Error| =  506.3534963826868\n",
      "True /data/knayem/IEEE_male_clean_16k_Quantized/dev_16k_FS_0.0625\n",
      "/data/knayem/IEEE_male_clean_16k/dev_16k/S_51_07_16k.wav <-> /data/knayem/IEEE_male_clean_16k_Quantized/dev_16k_FS_0.0625/S_51_07_16k_FS_0.0625.wav\n",
      "7 |Error| =  603.8506227312839\n",
      "True /data/knayem/IEEE_male_clean_16k_Quantized/dev_16k_FS_0.0625\n",
      "/data/knayem/IEEE_male_clean_16k/dev_16k/S_51_08_16k.wav <-> /data/knayem/IEEE_male_clean_16k_Quantized/dev_16k_FS_0.0625/S_51_08_16k_FS_0.0625.wav\n",
      "8 |Error| =  558.7885108309508\n",
      "True /data/knayem/IEEE_male_clean_16k_Quantized/dev_16k_FS_0.0625\n",
      "/data/knayem/IEEE_male_clean_16k/dev_16k/S_51_09_16k.wav <-> /data/knayem/IEEE_male_clean_16k_Quantized/dev_16k_FS_0.0625/S_51_09_16k_FS_0.0625.wav\n",
      "9 |Error| =  543.6371380257339\n",
      "True /data/knayem/IEEE_male_clean_16k_Quantized/dev_16k_FS_0.0625\n",
      "/data/knayem/IEEE_male_clean_16k/dev_16k/S_51_10_16k.wav <-> /data/knayem/IEEE_male_clean_16k_Quantized/dev_16k_FS_0.0625/S_51_10_16k_FS_0.0625.wav\n",
      "10 |Error| =  480.401277385116\n",
      "True /data/knayem/IEEE_male_clean_16k_Quantized/dev_16k_FS_0.0625\n",
      "/data/knayem/IEEE_male_clean_16k/dev_16k/S_52_01_16k.wav <-> /data/knayem/IEEE_male_clean_16k_Quantized/dev_16k_FS_0.0625/S_52_01_16k_FS_0.0625.wav\n"
     ]
    }
   ],
   "source": [
    "for QUANT_STEP in QUANT_STEP_LIST:\n",
    "    \n",
    "    for enum1, corpora in enumerate(sorted(corpora_path_list)) :\n",
    "        print(enum1,\"CORPORA:\", corpora)\n",
    "        QUANTIZED_DIRECTORY = corpora+\"_\"+QUANTIZED_DIRECTORY_TAG\n",
    "\n",
    "        for root, dirs, files in os.walk(corpora): \n",
    "            # .wav files only\n",
    "            wav_files = list( filter(lambda x: x.split('.')[-1] == 'wav', files) )\n",
    "            print(\"ROOT:\",root, \", len(DIR):\", len(dirs), \", len(FILES):\",len(wav_files),root.split('/')[-1])\n",
    "            \n",
    "            # folder name\n",
    "            if len(dirs)==0:\n",
    "                folder_name = root.split('/')[-1]\n",
    "                QUANTIZED_DIRECTORY_PATH = os.path.join(QUANTIZED_DIRECTORY,folder_name)\n",
    "                QUANTIZED_DIRECTORY_PATH = \"_\".join([QUANTIZED_DIRECTORY_PATH,Fixed_Step_Quantization_TAG,str(QUANT_STEP)])\n",
    "\n",
    "                npy_list = []\n",
    "#                 plt.figure()\n",
    "                \n",
    "            for enum2, filename in enumerate(sorted(wav_files)):\n",
    "                clean_wav_full_path = os.path.join(root, filename)\n",
    "                                                   \n",
    "                len_y, mag, unwrap_GD, phase, angle = mag_gd_phase(clean_wav_full_path, fs, n_fft, hop_length, win_length)\n",
    "                quantized_mag = quantized_matrix(mag, QUANT_STEP, MAX_AMP, MIN_AMP)\n",
    "\n",
    "                diff_mag = abs(mag-quantized_mag)\n",
    "                total_diff = np.sum(diff_mag)\n",
    "#                 print(enum2,\"|Error| = \", total_diff)\n",
    "\n",
    "                D = librosa.amplitude_to_db(mag, ref=np.max)\n",
    "                q_D = librosa.amplitude_to_db(quantized_mag, ref=np.max)\n",
    "\n",
    "                quant_wav_full_path = save_enhanced(quantized_mag, phase, fs, n_fft, hop_length, win_length, \n",
    "                                                    QUANTIZED_DIRECTORY_PATH, filename,\n",
    "                                                    {'quantization_tag':Fixed_Step_Quantization_TAG,'step':QUANT_STEP})\n",
    "\n",
    "                print(clean_wav_full_path,\"<->\",quant_wav_full_path)\n",
    "                npy_list.append( [filename, clean_wav_full_path, len_y, mag.shape[1]])\n",
    "                \n",
    "                \n",
    "                # plot the spectrogram\n",
    "#                 plt.subplot(len(wav_files), enum2+1, 1)\n",
    "#                 plt.subplot(3, 1, enum2+1)\n",
    "#                 librosa.display.specshow(D, y_axis='hz', x_axis='time', sr=fs)\n",
    "#                 plt.colorbar(format='%+2.0f dB')\n",
    "#                 plt.title(\":\".join([str(enum2),'mag',filename]))\n",
    "#                 plt.subplots_adjust(hspace=0.5)\n",
    "\n",
    "#                 plt.subplot(3, 2, enum2+1)\n",
    "#                 librosa.display.specshow(q_D, y_axis='hz', x_axis='time', sr=fs)\n",
    "#                 plt.colorbar(format='%+2.0f dB')\n",
    "#                 plt.title(\":\".join([str(enum2),'quant-mag',quant_wav_full_path.split('/')[-1]]))\n",
    "#                 plt.subplots_adjust(hspace=0.5)\n",
    "\n",
    "#                 plt.subplot(3, 3, enum2+1)\n",
    "#                 librosa.display.specshow(librosa.amplitude_to_db(librosa.amplitude_to_db(diff_mag, ref=np.max), ref=np.max), y_axis='hz', x_axis='time', sr=fs)\n",
    "#                 plt.colorbar(format='%+2.0f dB')\n",
    "#                 plt.title(\":\".join([str(enum2),'|Error|',str(total_diff)]))\n",
    "#                 plt.subplots_adjust(hspace=0.5)\n",
    "                \n",
    "#                 plt.draw()\n",
    "                \n",
    "#                 if enum2>=10:\n",
    "#                     break\n",
    "                    \n",
    "            if len(dirs)==0:    \n",
    "                npy_path = os.path.join(FILE_SAVE_PATH,QUANTIZED_DIRECTORY_PATH.split('/')[-1])\n",
    "#                 plt_path = os.path.join(FILE_SAVE_PATH,QUANTIZED_DIRECTORY_PATH.split('/')[-1]+\".pdf\")\n",
    "\n",
    "                np.save(npy_path, npy_list)\n",
    "#                 plt.savefig(plt_path,bbox_inches='tight')\n",
    "        \n",
    "            \n"
   ]
  },
  {
   "cell_type": "code",
   "execution_count": 26,
   "metadata": {},
   "outputs": [],
   "source": [
    "npy_list = np.load(npy_path+\".npy\")"
   ]
  },
  {
   "cell_type": "code",
   "execution_count": 34,
   "metadata": {},
   "outputs": [
    {
     "ename": "SyntaxError",
     "evalue": "invalid syntax (<ipython-input-34-74059c6b7878>, line 1)",
     "output_type": "error",
     "traceback": [
      "\u001b[0;36m  File \u001b[0;32m\"<ipython-input-34-74059c6b7878>\"\u001b[0;36m, line \u001b[0;32m1\u001b[0m\n\u001b[0;31m    npy_list[:,[0,1:2]]\u001b[0m\n\u001b[0m                   ^\u001b[0m\n\u001b[0;31mSyntaxError\u001b[0m\u001b[0;31m:\u001b[0m invalid syntax\n"
     ]
    }
   ],
   "source": [
    "npy_list[:,[0,1:2]]"
   ]
  }
 ],
 "metadata": {
  "kernelspec": {
   "display_name": "Python 3",
   "language": "python",
   "name": "python3"
  },
  "language_info": {
   "codemirror_mode": {
    "name": "ipython",
    "version": 3
   },
   "file_extension": ".py",
   "mimetype": "text/x-python",
   "name": "python",
   "nbconvert_exporter": "python",
   "pygments_lexer": "ipython3",
   "version": "3.6.8"
  }
 },
 "nbformat": 4,
 "nbformat_minor": 2
}
